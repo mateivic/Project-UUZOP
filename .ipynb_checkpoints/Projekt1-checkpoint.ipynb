{
 "cells": [
  {
   "cell_type": "markdown",
   "id": "5b797f0e",
   "metadata": {},
   "source": [
    "# UUZOP projekt\n",
    "# Priprema i vizualizacija podataka\n",
    "Kroz ovu bilježnicu ćemo proći kroz prvi dio projekta iz predmeta Uvod o znanost o podacima. U ovom dijelu projekta radimo na pripremi i vizualizaciji podataka vezanih za američku studentsku košarkašku ligu te turnire koji se igraju na kraju sezone."
   ]
  },
  {
   "cell_type": "code",
   "execution_count": 18,
   "id": "6e877fb6",
   "metadata": {},
   "outputs": [],
   "source": [
    "import os\n",
    "import pandas as pd\n",
    "import numpy as np\n",
    "import matplotlib.pyplot as plt\n",
    "from sklearn.ensemble import RandomForestClassifier, ExtraTreesClassifier\n",
    "from sklearn.metrics import accuracy_score, confusion_matrix\n",
    "from sklearn.model_selection import train_test_split\n",
    "from sklearn.preprocessing import OneHotEncoder, LabelEncoder\n",
    "from sklearn.model_selection import cross_val_score\n",
    "from sklearn.feature_selection import SelectKBest, mutual_info_classif"
   ]
  },
  {
   "cell_type": "markdown",
   "id": "2ffeedb9",
   "metadata": {},
   "source": [
    "Učitajmo najprije podatke u bilježnicu i pregledajmo što smo učitali. "
   ]
  },
  {
   "cell_type": "code",
   "execution_count": 19,
   "id": "b919c3b4",
   "metadata": {
    "scrolled": false
   },
   "outputs": [
    {
     "name": "stdout",
     "output_type": "stream",
     "text": [
      "(teams rows, teams columns) ->  (356, 2)\n",
      "(seasons rows, seasons columns) ->  (19, 7)\n",
      "(season_results rows, season_results columns) ->  (91224, 8)\n",
      "(tourney_results rows, tourney_results columns) ->  (1156, 7)\n",
      "(tourney_seeds rows, tourney_seeds columns) ->  (1242, 3)\n",
      "(tourney_slots rows, tourney_slots columns) ->  (1223, 4)\n"
     ]
    }
   ],
   "source": [
    "teams = pd.read_csv(\"./data/teams.csv\")\n",
    "seasons = pd.read_csv(\"./data/seasons.csv\")\n",
    "season_results = pd.read_csv(\"./data/regular_season_results.csv\")\n",
    "tourney_results = pd.read_csv(\"./data/tourney_results.csv\")\n",
    "tourney_seeds = pd.read_csv(\"./data/tourney_seeds.csv\")\n",
    "tourney_slots = pd.read_csv(\"./data/tourney_slots.csv\")\n",
    "\n",
    "print('(teams rows, teams columns) -> ', teams.shape)\n",
    "print('(seasons rows, seasons columns) -> ', seasons.shape)\n",
    "print('(season_results rows, season_results columns) -> ', season_results.shape)\n",
    "print('(tourney_results rows, tourney_results columns) -> ', tourney_results.shape)\n",
    "print('(tourney_seeds rows, tourney_seeds columns) -> ', tourney_seeds.shape)\n",
    "print('(tourney_slots rows, tourney_slots columns) -> ', tourney_slots.shape)"
   ]
  },
  {
   "cell_type": "code",
   "execution_count": 20,
   "id": "3201f149",
   "metadata": {},
   "outputs": [
    {
     "data": {
      "text/html": [
       "<div>\n",
       "<style scoped>\n",
       "    .dataframe tbody tr th:only-of-type {\n",
       "        vertical-align: middle;\n",
       "    }\n",
       "\n",
       "    .dataframe tbody tr th {\n",
       "        vertical-align: top;\n",
       "    }\n",
       "\n",
       "    .dataframe thead th {\n",
       "        text-align: right;\n",
       "    }\n",
       "</style>\n",
       "<table border=\"1\" class=\"dataframe\">\n",
       "  <thead>\n",
       "    <tr style=\"text-align: right;\">\n",
       "      <th></th>\n",
       "      <th>id</th>\n",
       "      <th>name</th>\n",
       "    </tr>\n",
       "  </thead>\n",
       "  <tbody>\n",
       "    <tr>\n",
       "      <th>0</th>\n",
       "      <td>501</td>\n",
       "      <td>Abilene Chr</td>\n",
       "    </tr>\n",
       "    <tr>\n",
       "      <th>1</th>\n",
       "      <td>502</td>\n",
       "      <td>Air Force</td>\n",
       "    </tr>\n",
       "    <tr>\n",
       "      <th>2</th>\n",
       "      <td>503</td>\n",
       "      <td>Akron</td>\n",
       "    </tr>\n",
       "    <tr>\n",
       "      <th>3</th>\n",
       "      <td>504</td>\n",
       "      <td>Alabama</td>\n",
       "    </tr>\n",
       "    <tr>\n",
       "      <th>4</th>\n",
       "      <td>505</td>\n",
       "      <td>Alabama A&amp;M</td>\n",
       "    </tr>\n",
       "  </tbody>\n",
       "</table>\n",
       "</div>"
      ],
      "text/plain": [
       "    id         name\n",
       "0  501  Abilene Chr\n",
       "1  502    Air Force\n",
       "2  503        Akron\n",
       "3  504      Alabama\n",
       "4  505  Alabama A&M"
      ]
     },
     "execution_count": 20,
     "metadata": {},
     "output_type": "execute_result"
    }
   ],
   "source": [
    "teams.head()"
   ]
  },
  {
   "cell_type": "code",
   "execution_count": 21,
   "id": "ce20463b",
   "metadata": {},
   "outputs": [
    {
     "data": {
      "text/html": [
       "<div>\n",
       "<style scoped>\n",
       "    .dataframe tbody tr th:only-of-type {\n",
       "        vertical-align: middle;\n",
       "    }\n",
       "\n",
       "    .dataframe tbody tr th {\n",
       "        vertical-align: top;\n",
       "    }\n",
       "\n",
       "    .dataframe thead th {\n",
       "        text-align: right;\n",
       "    }\n",
       "</style>\n",
       "<table border=\"1\" class=\"dataframe\">\n",
       "  <thead>\n",
       "    <tr style=\"text-align: right;\">\n",
       "      <th></th>\n",
       "      <th>season</th>\n",
       "      <th>years</th>\n",
       "      <th>dayzero</th>\n",
       "      <th>regionW</th>\n",
       "      <th>regionX</th>\n",
       "      <th>regionY</th>\n",
       "      <th>regionZ</th>\n",
       "    </tr>\n",
       "  </thead>\n",
       "  <tbody>\n",
       "    <tr>\n",
       "      <th>0</th>\n",
       "      <td>A</td>\n",
       "      <td>1995-1996</td>\n",
       "      <td>10/30/1995</td>\n",
       "      <td>East</td>\n",
       "      <td>Midwest</td>\n",
       "      <td>Southeast</td>\n",
       "      <td>West</td>\n",
       "    </tr>\n",
       "    <tr>\n",
       "      <th>1</th>\n",
       "      <td>B</td>\n",
       "      <td>1996-1997</td>\n",
       "      <td>10/28/1996</td>\n",
       "      <td>East</td>\n",
       "      <td>Southeast</td>\n",
       "      <td>Midwest</td>\n",
       "      <td>West</td>\n",
       "    </tr>\n",
       "    <tr>\n",
       "      <th>2</th>\n",
       "      <td>C</td>\n",
       "      <td>1997-1998</td>\n",
       "      <td>10/27/1997</td>\n",
       "      <td>East</td>\n",
       "      <td>West</td>\n",
       "      <td>Midwest</td>\n",
       "      <td>South</td>\n",
       "    </tr>\n",
       "    <tr>\n",
       "      <th>3</th>\n",
       "      <td>D</td>\n",
       "      <td>1998-1999</td>\n",
       "      <td>10/26/1998</td>\n",
       "      <td>East</td>\n",
       "      <td>Midwest</td>\n",
       "      <td>South</td>\n",
       "      <td>West</td>\n",
       "    </tr>\n",
       "    <tr>\n",
       "      <th>4</th>\n",
       "      <td>E</td>\n",
       "      <td>1999-2000</td>\n",
       "      <td>11/01/1999</td>\n",
       "      <td>Midwest</td>\n",
       "      <td>West</td>\n",
       "      <td>East</td>\n",
       "      <td>South</td>\n",
       "    </tr>\n",
       "  </tbody>\n",
       "</table>\n",
       "</div>"
      ],
      "text/plain": [
       "  season      years     dayzero  regionW    regionX    regionY regionZ\n",
       "0      A  1995-1996  10/30/1995     East    Midwest  Southeast    West\n",
       "1      B  1996-1997  10/28/1996     East  Southeast    Midwest    West\n",
       "2      C  1997-1998  10/27/1997     East       West    Midwest   South\n",
       "3      D  1998-1999  10/26/1998     East    Midwest      South    West\n",
       "4      E  1999-2000  11/01/1999  Midwest       West       East   South"
      ]
     },
     "execution_count": 21,
     "metadata": {},
     "output_type": "execute_result"
    }
   ],
   "source": [
    "seasons.head()"
   ]
  },
  {
   "cell_type": "code",
   "execution_count": 22,
   "id": "c1588006",
   "metadata": {},
   "outputs": [
    {
     "data": {
      "text/html": [
       "<div>\n",
       "<style scoped>\n",
       "    .dataframe tbody tr th:only-of-type {\n",
       "        vertical-align: middle;\n",
       "    }\n",
       "\n",
       "    .dataframe tbody tr th {\n",
       "        vertical-align: top;\n",
       "    }\n",
       "\n",
       "    .dataframe thead th {\n",
       "        text-align: right;\n",
       "    }\n",
       "</style>\n",
       "<table border=\"1\" class=\"dataframe\">\n",
       "  <thead>\n",
       "    <tr style=\"text-align: right;\">\n",
       "      <th></th>\n",
       "      <th>season</th>\n",
       "      <th>daynum</th>\n",
       "      <th>wteam</th>\n",
       "      <th>wscore</th>\n",
       "      <th>lteam</th>\n",
       "      <th>lscore</th>\n",
       "      <th>wloc</th>\n",
       "      <th>numot</th>\n",
       "    </tr>\n",
       "  </thead>\n",
       "  <tbody>\n",
       "    <tr>\n",
       "      <th>0</th>\n",
       "      <td>A</td>\n",
       "      <td>16</td>\n",
       "      <td>511</td>\n",
       "      <td>91</td>\n",
       "      <td>647</td>\n",
       "      <td>57</td>\n",
       "      <td>H</td>\n",
       "      <td>NaN</td>\n",
       "    </tr>\n",
       "    <tr>\n",
       "      <th>1</th>\n",
       "      <td>A</td>\n",
       "      <td>16</td>\n",
       "      <td>515</td>\n",
       "      <td>75</td>\n",
       "      <td>812</td>\n",
       "      <td>67</td>\n",
       "      <td>H</td>\n",
       "      <td>NaN</td>\n",
       "    </tr>\n",
       "    <tr>\n",
       "      <th>2</th>\n",
       "      <td>A</td>\n",
       "      <td>16</td>\n",
       "      <td>606</td>\n",
       "      <td>87</td>\n",
       "      <td>658</td>\n",
       "      <td>67</td>\n",
       "      <td>H</td>\n",
       "      <td>NaN</td>\n",
       "    </tr>\n",
       "    <tr>\n",
       "      <th>3</th>\n",
       "      <td>A</td>\n",
       "      <td>16</td>\n",
       "      <td>670</td>\n",
       "      <td>73</td>\n",
       "      <td>573</td>\n",
       "      <td>65</td>\n",
       "      <td>H</td>\n",
       "      <td>NaN</td>\n",
       "    </tr>\n",
       "    <tr>\n",
       "      <th>4</th>\n",
       "      <td>A</td>\n",
       "      <td>16</td>\n",
       "      <td>721</td>\n",
       "      <td>99</td>\n",
       "      <td>632</td>\n",
       "      <td>68</td>\n",
       "      <td>H</td>\n",
       "      <td>NaN</td>\n",
       "    </tr>\n",
       "  </tbody>\n",
       "</table>\n",
       "</div>"
      ],
      "text/plain": [
       "  season  daynum  wteam  wscore  lteam  lscore wloc  numot\n",
       "0      A      16    511      91    647      57    H    NaN\n",
       "1      A      16    515      75    812      67    H    NaN\n",
       "2      A      16    606      87    658      67    H    NaN\n",
       "3      A      16    670      73    573      65    H    NaN\n",
       "4      A      16    721      99    632      68    H    NaN"
      ]
     },
     "execution_count": 22,
     "metadata": {},
     "output_type": "execute_result"
    }
   ],
   "source": [
    "season_results.head()"
   ]
  },
  {
   "cell_type": "code",
   "execution_count": 23,
   "id": "c2a324e3",
   "metadata": {},
   "outputs": [
    {
     "data": {
      "text/html": [
       "<div>\n",
       "<style scoped>\n",
       "    .dataframe tbody tr th:only-of-type {\n",
       "        vertical-align: middle;\n",
       "    }\n",
       "\n",
       "    .dataframe tbody tr th {\n",
       "        vertical-align: top;\n",
       "    }\n",
       "\n",
       "    .dataframe thead th {\n",
       "        text-align: right;\n",
       "    }\n",
       "</style>\n",
       "<table border=\"1\" class=\"dataframe\">\n",
       "  <thead>\n",
       "    <tr style=\"text-align: right;\">\n",
       "      <th></th>\n",
       "      <th>season</th>\n",
       "      <th>daynum</th>\n",
       "      <th>wteam</th>\n",
       "      <th>wscore</th>\n",
       "      <th>lteam</th>\n",
       "      <th>lscore</th>\n",
       "      <th>numot</th>\n",
       "    </tr>\n",
       "  </thead>\n",
       "  <tbody>\n",
       "    <tr>\n",
       "      <th>0</th>\n",
       "      <td>A</td>\n",
       "      <td>136</td>\n",
       "      <td>515</td>\n",
       "      <td>86</td>\n",
       "      <td>729</td>\n",
       "      <td>80</td>\n",
       "      <td>NaN</td>\n",
       "    </tr>\n",
       "    <tr>\n",
       "      <th>1</th>\n",
       "      <td>A</td>\n",
       "      <td>136</td>\n",
       "      <td>559</td>\n",
       "      <td>68</td>\n",
       "      <td>555</td>\n",
       "      <td>59</td>\n",
       "      <td>NaN</td>\n",
       "    </tr>\n",
       "    <tr>\n",
       "      <th>2</th>\n",
       "      <td>A</td>\n",
       "      <td>136</td>\n",
       "      <td>576</td>\n",
       "      <td>75</td>\n",
       "      <td>666</td>\n",
       "      <td>63</td>\n",
       "      <td>NaN</td>\n",
       "    </tr>\n",
       "    <tr>\n",
       "      <th>3</th>\n",
       "      <td>A</td>\n",
       "      <td>136</td>\n",
       "      <td>581</td>\n",
       "      <td>75</td>\n",
       "      <td>577</td>\n",
       "      <td>60</td>\n",
       "      <td>NaN</td>\n",
       "    </tr>\n",
       "    <tr>\n",
       "      <th>4</th>\n",
       "      <td>A</td>\n",
       "      <td>136</td>\n",
       "      <td>604</td>\n",
       "      <td>81</td>\n",
       "      <td>551</td>\n",
       "      <td>74</td>\n",
       "      <td>NaN</td>\n",
       "    </tr>\n",
       "  </tbody>\n",
       "</table>\n",
       "</div>"
      ],
      "text/plain": [
       "  season  daynum  wteam  wscore  lteam  lscore  numot\n",
       "0      A     136    515      86    729      80    NaN\n",
       "1      A     136    559      68    555      59    NaN\n",
       "2      A     136    576      75    666      63    NaN\n",
       "3      A     136    581      75    577      60    NaN\n",
       "4      A     136    604      81    551      74    NaN"
      ]
     },
     "execution_count": 23,
     "metadata": {},
     "output_type": "execute_result"
    }
   ],
   "source": [
    "tourney_results.head()"
   ]
  },
  {
   "cell_type": "code",
   "execution_count": 24,
   "id": "9f5cbf4c",
   "metadata": {},
   "outputs": [
    {
     "data": {
      "text/html": [
       "<div>\n",
       "<style scoped>\n",
       "    .dataframe tbody tr th:only-of-type {\n",
       "        vertical-align: middle;\n",
       "    }\n",
       "\n",
       "    .dataframe tbody tr th {\n",
       "        vertical-align: top;\n",
       "    }\n",
       "\n",
       "    .dataframe thead th {\n",
       "        text-align: right;\n",
       "    }\n",
       "</style>\n",
       "<table border=\"1\" class=\"dataframe\">\n",
       "  <thead>\n",
       "    <tr style=\"text-align: right;\">\n",
       "      <th></th>\n",
       "      <th>season</th>\n",
       "      <th>seed</th>\n",
       "      <th>team</th>\n",
       "    </tr>\n",
       "  </thead>\n",
       "  <tbody>\n",
       "    <tr>\n",
       "      <th>0</th>\n",
       "      <td>A</td>\n",
       "      <td>W01</td>\n",
       "      <td>663</td>\n",
       "    </tr>\n",
       "    <tr>\n",
       "      <th>1</th>\n",
       "      <td>A</td>\n",
       "      <td>W02</td>\n",
       "      <td>603</td>\n",
       "    </tr>\n",
       "    <tr>\n",
       "      <th>2</th>\n",
       "      <td>A</td>\n",
       "      <td>W03</td>\n",
       "      <td>796</td>\n",
       "    </tr>\n",
       "    <tr>\n",
       "      <th>3</th>\n",
       "      <td>A</td>\n",
       "      <td>W04</td>\n",
       "      <td>660</td>\n",
       "    </tr>\n",
       "    <tr>\n",
       "      <th>4</th>\n",
       "      <td>A</td>\n",
       "      <td>W05</td>\n",
       "      <td>729</td>\n",
       "    </tr>\n",
       "  </tbody>\n",
       "</table>\n",
       "</div>"
      ],
      "text/plain": [
       "  season seed  team\n",
       "0      A  W01   663\n",
       "1      A  W02   603\n",
       "2      A  W03   796\n",
       "3      A  W04   660\n",
       "4      A  W05   729"
      ]
     },
     "execution_count": 24,
     "metadata": {},
     "output_type": "execute_result"
    }
   ],
   "source": [
    "tourney_seeds.head()"
   ]
  },
  {
   "cell_type": "code",
   "execution_count": 25,
   "id": "8e150826",
   "metadata": {
    "scrolled": true
   },
   "outputs": [
    {
     "data": {
      "text/html": [
       "<div>\n",
       "<style scoped>\n",
       "    .dataframe tbody tr th:only-of-type {\n",
       "        vertical-align: middle;\n",
       "    }\n",
       "\n",
       "    .dataframe tbody tr th {\n",
       "        vertical-align: top;\n",
       "    }\n",
       "\n",
       "    .dataframe thead th {\n",
       "        text-align: right;\n",
       "    }\n",
       "</style>\n",
       "<table border=\"1\" class=\"dataframe\">\n",
       "  <thead>\n",
       "    <tr style=\"text-align: right;\">\n",
       "      <th></th>\n",
       "      <th>season</th>\n",
       "      <th>slot</th>\n",
       "      <th>strongseed</th>\n",
       "      <th>weakseed</th>\n",
       "    </tr>\n",
       "  </thead>\n",
       "  <tbody>\n",
       "    <tr>\n",
       "      <th>0</th>\n",
       "      <td>A</td>\n",
       "      <td>R1W1</td>\n",
       "      <td>W01</td>\n",
       "      <td>W16</td>\n",
       "    </tr>\n",
       "    <tr>\n",
       "      <th>1</th>\n",
       "      <td>A</td>\n",
       "      <td>R1W2</td>\n",
       "      <td>W02</td>\n",
       "      <td>W15</td>\n",
       "    </tr>\n",
       "    <tr>\n",
       "      <th>2</th>\n",
       "      <td>A</td>\n",
       "      <td>R1W3</td>\n",
       "      <td>W03</td>\n",
       "      <td>W14</td>\n",
       "    </tr>\n",
       "    <tr>\n",
       "      <th>3</th>\n",
       "      <td>A</td>\n",
       "      <td>R1W4</td>\n",
       "      <td>W04</td>\n",
       "      <td>W13</td>\n",
       "    </tr>\n",
       "    <tr>\n",
       "      <th>4</th>\n",
       "      <td>A</td>\n",
       "      <td>R1W5</td>\n",
       "      <td>W05</td>\n",
       "      <td>W12</td>\n",
       "    </tr>\n",
       "  </tbody>\n",
       "</table>\n",
       "</div>"
      ],
      "text/plain": [
       "  season  slot strongseed weakseed\n",
       "0      A  R1W1        W01      W16\n",
       "1      A  R1W2        W02      W15\n",
       "2      A  R1W3        W03      W14\n",
       "3      A  R1W4        W04      W13\n",
       "4      A  R1W5        W05      W12"
      ]
     },
     "execution_count": 25,
     "metadata": {},
     "output_type": "execute_result"
    }
   ],
   "source": [
    "tourney_slots.head()"
   ]
  },
  {
   "cell_type": "markdown",
   "id": "c439294b",
   "metadata": {},
   "source": [
    "# season_results\n",
    "Pogledajmo najprije tablicu season_results. Tablica ima 91224 zapisa (svaki predstavlja jednu utakmicu u određenoj sezoni) i 8 značajki."
   ]
  },
  {
   "cell_type": "code",
   "execution_count": 26,
   "id": "b8c41232",
   "metadata": {
    "scrolled": false
   },
   "outputs": [
    {
     "name": "stdout",
     "output_type": "stream",
     "text": [
      "(season_results rows, season_results columns) ->  (91224, 8)\n"
     ]
    },
    {
     "data": {
      "text/html": [
       "<div>\n",
       "<style scoped>\n",
       "    .dataframe tbody tr th:only-of-type {\n",
       "        vertical-align: middle;\n",
       "    }\n",
       "\n",
       "    .dataframe tbody tr th {\n",
       "        vertical-align: top;\n",
       "    }\n",
       "\n",
       "    .dataframe thead th {\n",
       "        text-align: right;\n",
       "    }\n",
       "</style>\n",
       "<table border=\"1\" class=\"dataframe\">\n",
       "  <thead>\n",
       "    <tr style=\"text-align: right;\">\n",
       "      <th></th>\n",
       "      <th>season</th>\n",
       "      <th>daynum</th>\n",
       "      <th>wteam</th>\n",
       "      <th>wscore</th>\n",
       "      <th>lteam</th>\n",
       "      <th>lscore</th>\n",
       "      <th>wloc</th>\n",
       "      <th>numot</th>\n",
       "    </tr>\n",
       "  </thead>\n",
       "  <tbody>\n",
       "    <tr>\n",
       "      <th>0</th>\n",
       "      <td>A</td>\n",
       "      <td>16</td>\n",
       "      <td>511</td>\n",
       "      <td>91</td>\n",
       "      <td>647</td>\n",
       "      <td>57</td>\n",
       "      <td>H</td>\n",
       "      <td>NaN</td>\n",
       "    </tr>\n",
       "    <tr>\n",
       "      <th>1</th>\n",
       "      <td>A</td>\n",
       "      <td>16</td>\n",
       "      <td>515</td>\n",
       "      <td>75</td>\n",
       "      <td>812</td>\n",
       "      <td>67</td>\n",
       "      <td>H</td>\n",
       "      <td>NaN</td>\n",
       "    </tr>\n",
       "    <tr>\n",
       "      <th>2</th>\n",
       "      <td>A</td>\n",
       "      <td>16</td>\n",
       "      <td>606</td>\n",
       "      <td>87</td>\n",
       "      <td>658</td>\n",
       "      <td>67</td>\n",
       "      <td>H</td>\n",
       "      <td>NaN</td>\n",
       "    </tr>\n",
       "    <tr>\n",
       "      <th>3</th>\n",
       "      <td>A</td>\n",
       "      <td>16</td>\n",
       "      <td>670</td>\n",
       "      <td>73</td>\n",
       "      <td>573</td>\n",
       "      <td>65</td>\n",
       "      <td>H</td>\n",
       "      <td>NaN</td>\n",
       "    </tr>\n",
       "    <tr>\n",
       "      <th>4</th>\n",
       "      <td>A</td>\n",
       "      <td>16</td>\n",
       "      <td>721</td>\n",
       "      <td>99</td>\n",
       "      <td>632</td>\n",
       "      <td>68</td>\n",
       "      <td>H</td>\n",
       "      <td>NaN</td>\n",
       "    </tr>\n",
       "    <tr>\n",
       "      <th>...</th>\n",
       "      <td>...</td>\n",
       "      <td>...</td>\n",
       "      <td>...</td>\n",
       "      <td>...</td>\n",
       "      <td>...</td>\n",
       "      <td>...</td>\n",
       "      <td>...</td>\n",
       "      <td>...</td>\n",
       "    </tr>\n",
       "    <tr>\n",
       "      <th>91219</th>\n",
       "      <td>S</td>\n",
       "      <td>132</td>\n",
       "      <td>592</td>\n",
       "      <td>61</td>\n",
       "      <td>640</td>\n",
       "      <td>60</td>\n",
       "      <td>N</td>\n",
       "      <td>0.0</td>\n",
       "    </tr>\n",
       "    <tr>\n",
       "      <th>91220</th>\n",
       "      <td>S</td>\n",
       "      <td>132</td>\n",
       "      <td>671</td>\n",
       "      <td>69</td>\n",
       "      <td>670</td>\n",
       "      <td>55</td>\n",
       "      <td>N</td>\n",
       "      <td>0.0</td>\n",
       "    </tr>\n",
       "    <tr>\n",
       "      <th>91221</th>\n",
       "      <td>S</td>\n",
       "      <td>132</td>\n",
       "      <td>779</td>\n",
       "      <td>65</td>\n",
       "      <td>825</td>\n",
       "      <td>61</td>\n",
       "      <td>N</td>\n",
       "      <td>0.0</td>\n",
       "    </tr>\n",
       "    <tr>\n",
       "      <th>91222</th>\n",
       "      <td>S</td>\n",
       "      <td>132</td>\n",
       "      <td>811</td>\n",
       "      <td>82</td>\n",
       "      <td>605</td>\n",
       "      <td>81</td>\n",
       "      <td>N</td>\n",
       "      <td>1.0</td>\n",
       "    </tr>\n",
       "    <tr>\n",
       "      <th>91223</th>\n",
       "      <td>S</td>\n",
       "      <td>132</td>\n",
       "      <td>830</td>\n",
       "      <td>72</td>\n",
       "      <td>577</td>\n",
       "      <td>63</td>\n",
       "      <td>N</td>\n",
       "      <td>0.0</td>\n",
       "    </tr>\n",
       "  </tbody>\n",
       "</table>\n",
       "<p>91224 rows × 8 columns</p>\n",
       "</div>"
      ],
      "text/plain": [
       "      season  daynum  wteam  wscore  lteam  lscore wloc  numot\n",
       "0          A      16    511      91    647      57    H    NaN\n",
       "1          A      16    515      75    812      67    H    NaN\n",
       "2          A      16    606      87    658      67    H    NaN\n",
       "3          A      16    670      73    573      65    H    NaN\n",
       "4          A      16    721      99    632      68    H    NaN\n",
       "...      ...     ...    ...     ...    ...     ...  ...    ...\n",
       "91219      S     132    592      61    640      60    N    0.0\n",
       "91220      S     132    671      69    670      55    N    0.0\n",
       "91221      S     132    779      65    825      61    N    0.0\n",
       "91222      S     132    811      82    605      81    N    1.0\n",
       "91223      S     132    830      72    577      63    N    0.0\n",
       "\n",
       "[91224 rows x 8 columns]"
      ]
     },
     "execution_count": 26,
     "metadata": {},
     "output_type": "execute_result"
    }
   ],
   "source": [
    "print('(season_results rows, season_results columns) -> ', season_results.shape)\n",
    "season_results"
   ]
  },
  {
   "cell_type": "markdown",
   "id": "ac6aac7d",
   "metadata": {},
   "source": [
    "Pogledajmo sada sadrži li ova tablica nedostajajuće podatke i postoje li stršeće vrijednosti."
   ]
  },
  {
   "cell_type": "code",
   "execution_count": 27,
   "id": "7df43079",
   "metadata": {
    "scrolled": true
   },
   "outputs": [
    {
     "data": {
      "text/plain": [
       "season        0\n",
       "daynum        0\n",
       "wteam         0\n",
       "wscore        0\n",
       "lteam         0\n",
       "lscore        0\n",
       "wloc          0\n",
       "numot     39891\n",
       "dtype: int64"
      ]
     },
     "execution_count": 27,
     "metadata": {},
     "output_type": "execute_result"
    }
   ],
   "source": [
    "season_results.isna().sum()"
   ]
  },
  {
   "cell_type": "markdown",
   "id": "b59c2ddb",
   "metadata": {},
   "source": [
    "Značajka **numot** sadrži više od trećine nedostajajućih podataka. Smatram da nam za našu predikciju ova značajka nije od prevelike važnosti stoga ćemo ju obrisati."
   ]
  },
  {
   "cell_type": "code",
   "execution_count": 28,
   "id": "bd67d63a",
   "metadata": {},
   "outputs": [
    {
     "data": {
      "text/plain": [
       "season    0\n",
       "daynum    0\n",
       "wteam     0\n",
       "wscore    0\n",
       "lteam     0\n",
       "lscore    0\n",
       "wloc      0\n",
       "dtype: int64"
      ]
     },
     "execution_count": 28,
     "metadata": {},
     "output_type": "execute_result"
    }
   ],
   "source": [
    "season_results.drop(['numot'], axis=1, inplace=True)\n",
    "season_results.isna().sum()"
   ]
  },
  {
   "cell_type": "markdown",
   "id": "6a18d081",
   "metadata": {},
   "source": [
    "Pogledajmo sadrži li tablica neke stršeće vrijednosti."
   ]
  },
  {
   "cell_type": "code",
   "execution_count": 29,
   "id": "6a83d385",
   "metadata": {
    "scrolled": true
   },
   "outputs": [
    {
     "ename": "NameError",
     "evalue": "name 'season_results_tmp' is not defined",
     "output_type": "error",
     "traceback": [
      "\u001b[1;31m---------------------------------------------------------------------------\u001b[0m",
      "\u001b[1;31mNameError\u001b[0m                                 Traceback (most recent call last)",
      "Cell \u001b[1;32mIn [29], line 1\u001b[0m\n\u001b[1;32m----> 1\u001b[0m \u001b[43mseason_results_tmp\u001b[49m\u001b[38;5;241m.\u001b[39mdescribe()\n",
      "\u001b[1;31mNameError\u001b[0m: name 'season_results_tmp' is not defined"
     ]
    }
   ],
   "source": [
    "season_results_tmp.describe()"
   ]
  },
  {
   "cell_type": "markdown",
   "id": "4c804759",
   "metadata": {},
   "source": [
    "Vidimo da su kandidati za stršeču vrijednost **wscore** i **lscore**. Maksimalne vrijednosti im dosta odskaču, ali nisu nemoguće. Promijenimo značajku wloc u numeričku vrijednost koristeći LabelEncoder. Broj 1 predstavlja domaći teren, broj 0 gostujući, a broj 2 neutralni. Prikažimo broj pobjeđenh utakmica u ovisnosti o terenu. Vidimo da je ostvareno duplo više pobjeda na domaćem terenu nego na gostujućem."
   ]
  },
  {
   "cell_type": "code",
   "execution_count": null,
   "id": "58128442",
   "metadata": {},
   "outputs": [],
   "source": [
    "le = LabelEncoder()\n",
    "le.fit(season_results.loc[:,'wloc'])\n",
    "season_results.loc[:,'wloc'] = le.transform(season_results.loc[:,'wloc'])\n",
    "\n",
    "season_results[['wloc','wscore']].groupby('wloc').count()"
   ]
  },
  {
   "cell_type": "markdown",
   "id": "27ae9dec",
   "metadata": {},
   "source": [
    "Promijenimo zatim značajku **season** u brojčanu vrijednost, isto koristeći LabelEncoder. Atribut season se pojavljuje u čak pet tablica, tako da ćemo ga odmah pretvoriti u brojčanu vrijednost u svih pet tablica."
   ]
  },
  {
   "cell_type": "code",
   "execution_count": null,
   "id": "cf2d5204",
   "metadata": {},
   "outputs": [],
   "source": [
    "le = LabelEncoder()\n",
    "\n",
    "le.fit(season_results.loc[:,'season'])\n",
    "season_results.loc[:,'season'] = le.transform(season_results.loc[:,'season'])\n",
    "\n",
    "le.fit(seasons.loc[:,'season'])\n",
    "seasons.loc[:,'season'] = le.transform(seasons.loc[:,'season'])\n",
    "\n",
    "le.fit(tourney_results.loc[:,'season'])\n",
    "tourney_results.loc[:,'season'] = le.transform(tourney_results.loc[:,'season'])\n",
    "\n",
    "le.fit(tourney_seeds.loc[:,'season'])\n",
    "tourney_seeds.loc[:,'season'] = le.transform(tourney_seeds.loc[:,'season'])\n",
    "\n",
    "le.fit(tourney_slots.loc[:,'season'])\n",
    "tourney_slots.loc[:,'season'] = le.transform(tourney_slots.loc[:,'season'])\n"
   ]
  },
  {
   "cell_type": "markdown",
   "id": "31b11b3f",
   "metadata": {},
   "source": [
    "Prikažimo sada neke zanimljivosti iz ove tablice grafički. Donji grafovi prikazuju koliko se najviše koševa zabilo u jednoj utakmici po sezonama, dok graf ispod pokazuje koliko se najmanje koševa u jednoj utakmici zabilo po sezonama."
   ]
  },
  {
   "cell_type": "code",
   "execution_count": null,
   "id": "5640c439",
   "metadata": {
    "scrolled": false
   },
   "outputs": [],
   "source": [
    "max_points = season_results.groupby(['season'], as_index=False)['wscore'].max()\n",
    "min_points = season_results.groupby(['season'], as_index=False)['lscore'].min()\n",
    "\n",
    "fig, ax = plt.subplots(2,1, figsize=(20,10)) \n",
    "ax[0].bar(max_points.season,max_points.wscore)\n",
    "ax[0].set_xlabel('seasons')\n",
    "ax[0].set_ylabel('max_points')\n",
    "\n",
    "ax[1].bar(min_points.season,min_points.lscore)\n",
    "ax[1].set_xlabel('seasons')\n",
    "ax[1].set_ylabel('min_points')\n",
    "\n",
    "plt.show()"
   ]
  },
  {
   "cell_type": "markdown",
   "id": "7a2df3a1",
   "metadata": {},
   "source": [
    "Donji graf prikazuje prosječan broj koševa od strane pobjedničkih ekipa po sezonama."
   ]
  },
  {
   "cell_type": "code",
   "execution_count": null,
   "id": "d11c6202",
   "metadata": {
    "scrolled": true
   },
   "outputs": [],
   "source": [
    "avg_win_points = season_results.groupby(['season'], as_index=False)['wscore'].mean()\n",
    "\n",
    "plt.plot(avg_win_points.season, avg_win_points.wscore)\n",
    "plt.show()"
   ]
  },
  {
   "cell_type": "markdown",
   "id": "bcf91aa2",
   "metadata": {},
   "source": [
    "Donji graf prikazuje koliko znači prednost domaćeg terena. Vidimo da ekipe puno više pobjeda imaju na domaćem terenu nego na gostujućem ili neutralnom terenu."
   ]
  },
  {
   "cell_type": "code",
   "execution_count": null,
   "id": "38e81814",
   "metadata": {},
   "outputs": [],
   "source": [
    "count_per_loc = season_results.groupby('wloc').count().loc[:, 'season'].values\n",
    "\n",
    "plt.pie(count_per_loc, labels=['away', 'home', 'neutral'], autopct='%.2f')\n",
    "plt.title('Display of victories depending on the terrain')\n",
    "plt.show()"
   ]
  },
  {
   "cell_type": "markdown",
   "id": "a7284f52",
   "metadata": {},
   "source": [
    "# tourney_results\n",
    "Pogledajmo sada tablicu tourney_results. Tablica ima 1156 redaka i 7 značajki. Pogledajmo nedostajajuće podatke."
   ]
  },
  {
   "cell_type": "code",
   "execution_count": null,
   "id": "57cd3442",
   "metadata": {
    "scrolled": true
   },
   "outputs": [],
   "source": [
    "print('(rows, attributes) ->',tourney_results.shape)\n",
    "tourney_results"
   ]
  },
  {
   "cell_type": "code",
   "execution_count": null,
   "id": "7565a276",
   "metadata": {},
   "outputs": [],
   "source": [
    "tourney_results.isna().sum()"
   ]
  },
  {
   "cell_type": "markdown",
   "id": "9ed9e0e0",
   "metadata": {},
   "source": [
    "Vidimo da za 50% n-torki ne postoji vrijednost **numot**. Ovih nedostajajućih vrijednosti ćemo se riješiti tako da uklonimo značajku numot iz skupa podataka, kao što smo napravili i u season_results."
   ]
  },
  {
   "cell_type": "code",
   "execution_count": null,
   "id": "c4ac8f10",
   "metadata": {},
   "outputs": [],
   "source": [
    "tourney_results.drop(['numot'], axis=1, inplace=True)\n",
    "tourney_results.isna().sum()"
   ]
  },
  {
   "cell_type": "markdown",
   "id": "4fee7882",
   "metadata": {},
   "source": [
    "Pogledajmo sada postoje li stršeće vrijednosti u tablici tourney_results."
   ]
  },
  {
   "cell_type": "code",
   "execution_count": null,
   "id": "054ec195",
   "metadata": {
    "scrolled": true
   },
   "outputs": [],
   "source": [
    "tourney_results.describe()"
   ]
  },
  {
   "cell_type": "markdown",
   "id": "d3b01d4e",
   "metadata": {},
   "source": [
    "U ovom skupu podataka za sad ne mogu uočiti nikakve stršeće vrijednosti. Nema potrebe za reformatiranjem značajki jer su sve značajke brojčane vrijednosti. Vizualizirajmo malo podatke. Donji graf prikazuje top 10 timova sa najviše pobjeda(prvi graf) i s najviše poraza(drugi graf)."
   ]
  },
  {
   "cell_type": "code",
   "execution_count": null,
   "id": "f5c6533c",
   "metadata": {},
   "outputs": [],
   "source": [
    "wining_teams = tourney_results.merge(teams, left_on='wteam', right_on='id')\n",
    "wining_teams = wining_teams.groupby('name', as_index=False)['daynum'].count().sort_values(by='daynum', ascending=False).head(10)\n",
    "\n",
    "losing_teams = tourney_results.merge(teams, left_on='lteam', right_on='id')\n",
    "losing_teams = losing_teams.groupby('name', as_index=False)['daynum'].count().sort_values(by='daynum', ascending=False).head(10)\n",
    "\n",
    "fig, ax = plt.subplots(2,1, figsize=(20,10)) \n",
    "ax[0].plot(wining_teams.name, wining_teams.daynum, c='r')\n",
    "ax[1].plot(losing_teams.name, losing_teams.daynum, c='b')\n",
    "\n",
    "plt.show()"
   ]
  },
  {
   "cell_type": "markdown",
   "id": "cf7be27e",
   "metadata": {},
   "source": [
    "# seasons\n",
    "Pogledajmo tablicu seasons. Tablica ima 19 zapisa (svaki predstavlja jednu sezonu) i 7 značajki."
   ]
  },
  {
   "cell_type": "code",
   "execution_count": null,
   "id": "fc04b781",
   "metadata": {
    "scrolled": false
   },
   "outputs": [],
   "source": [
    "print('(seasons rows, seasons columns) -> ', seasons.shape)\n",
    "seasons"
   ]
  },
  {
   "cell_type": "markdown",
   "id": "5561e60c",
   "metadata": {},
   "source": [
    "Bilo bi dobro promijeniti format značajke **years**. Stvorit ćemo novu značajku **begining_year** koja će predstavljati godinu u kojoj je sezona počela."
   ]
  },
  {
   "cell_type": "code",
   "execution_count": null,
   "id": "ef68bba6",
   "metadata": {},
   "outputs": [],
   "source": [
    "new = seasons['years'].str.split('-', n = 1, expand = True)\n",
    "seasons['begining_year'] = pd.to_numeric(new[0])\n",
    "seasons.drop(['years'], axis=1, inplace=True)\n",
    "seasons\n"
   ]
  },
  {
   "cell_type": "markdown",
   "id": "64b20b2f",
   "metadata": {},
   "source": [
    "Dodajmo sada regije kao značajke. Svaki zapis za svaku regiju promijenit ćemo u brojčanu vrijednost koristeći labelEncoder. Prvotne regije u tekstualnom obliku ćemo ostaviti još neko vrijeme, možda nam zatrebaju."
   ]
  },
  {
   "cell_type": "code",
   "execution_count": null,
   "id": "ac8a6e33",
   "metadata": {
    "scrolled": true
   },
   "outputs": [],
   "source": [
    "seasons_tmp = seasons.copy()\n",
    "regions = pd.concat([seasons_tmp.loc[:, 'regionW'], \n",
    "                     seasons_tmp.loc[:, 'regionX'], \n",
    "                     seasons_tmp.loc[:, 'regionY'], \n",
    "                     seasons_tmp.loc[:, 'regionZ']]).drop_duplicates()\n",
    "le = LabelEncoder()\n",
    "le.fit(regions)\n",
    "\n",
    "seasons_tmp['regionW_num'] = le.transform(seasons_tmp.loc[:,'regionW'])\n",
    "seasons_tmp['regionX_num'] = le.transform(seasons_tmp.loc[:,'regionX'])\n",
    "seasons_tmp['regionY_num'] = le.transform(seasons_tmp.loc[:,'regionY'])\n",
    "seasons_tmp['regionZ_num'] = le.transform(seasons_tmp.loc[:,'regionZ'])\n",
    "\n",
    "seasons = seasons_tmp.copy()\n",
    "seasons\n"
   ]
  },
  {
   "cell_type": "markdown",
   "id": "809d7640",
   "metadata": {},
   "source": [
    "Pogledajmo sada sadrži li ova tablica nedostajajuće podatke i postoje li stršeće vrijednosti."
   ]
  },
  {
   "cell_type": "code",
   "execution_count": null,
   "id": "7f607f41",
   "metadata": {},
   "outputs": [],
   "source": [
    "seasons.isna().sum()"
   ]
  },
  {
   "cell_type": "code",
   "execution_count": null,
   "id": "634f326e",
   "metadata": {
    "scrolled": true
   },
   "outputs": [],
   "source": [
    "seasons.describe()"
   ]
  },
  {
   "cell_type": "markdown",
   "id": "db400282",
   "metadata": {},
   "source": [
    "Nedostajajući podaci ne postoje, a stršeće vrijednosti ne mogu pronaći. Pokušajmo vizualizirati podatke iz tablice. Na primjer, tablica ispod prikazuje koliko je puta koja regija sudjelovala u finalnom turniru na kraju sezone."
   ]
  },
  {
   "cell_type": "code",
   "execution_count": null,
   "id": "00b7e6eb",
   "metadata": {
    "scrolled": true
   },
   "outputs": [],
   "source": [
    "tmp = pd.concat([seasons['regionW'], seasons['regionX'], seasons['regionY'], seasons['regionZ']])\n",
    "\n",
    "tmp = tmp.to_frame().rename(columns={0:'region'})\n",
    "tmp['rand'] = 1\n",
    "tmp = tmp.groupby('region', as_index=False)['rand'].count().sort_values(by='rand', ascending=False)\n",
    "\n",
    "plt.bar(tmp.region, tmp.rand)\n",
    "plt.xticks(rotation=90)\n",
    "plt.show()"
   ]
  },
  {
   "cell_type": "markdown",
   "id": "f1c61fbb",
   "metadata": {},
   "source": [
    "# tourney_seeds\n",
    "Pogledajmo sada tablicu tourney_seeds. Tablica ima 1242 zapisa i 3 značajke."
   ]
  },
  {
   "cell_type": "code",
   "execution_count": null,
   "id": "9e1d900c",
   "metadata": {},
   "outputs": [],
   "source": [
    "print('(tourney_seeds rows, tourney_seeds columns) -> ', tourney_seeds.shape)\n",
    "tourney_seeds"
   ]
  },
  {
   "cell_type": "markdown",
   "id": "615af136",
   "metadata": {},
   "source": [
    "Pogledajmo postoji li nedostajajućih podataka ili stršećih vrijednosti."
   ]
  },
  {
   "cell_type": "code",
   "execution_count": null,
   "id": "fa4d431c",
   "metadata": {},
   "outputs": [],
   "source": [
    "tourney_seeds.isna().sum()"
   ]
  },
  {
   "cell_type": "code",
   "execution_count": null,
   "id": "cb3dc3c9",
   "metadata": {},
   "outputs": [],
   "source": [
    "tourney_seeds.describe()"
   ]
  },
  {
   "cell_type": "markdown",
   "id": "7be22b7a",
   "metadata": {},
   "source": [
    "Nedostajajućih i stršećih vrijednosti očekivano nema. Pogledajmo značajku **seed**. Pokušajmo ju drukčije formatirati i od nje napraviti dvije značajke: prva neka se zove **region**, a druga neka bude **seed_in_region**. Značajku region dobit ćemo uzimanjem prvog slova značajke seed (0->W, 1->X, 2->Y, 3->Z), a seed_in_region dobivamo kao ostatak značajke seed (na nekoliko mjesta postojalo je sed_in_region = '16a' ili '16b', pretpostavljam da su te ekipe imale isti broj bodova pa su obje bile na 16. mjestu, zanemario sam taj podatak tako da bih dobio značajku seed_in_region kao numeričku vrijednost)"
   ]
  },
  {
   "cell_type": "code",
   "execution_count": null,
   "id": "04546565",
   "metadata": {},
   "outputs": [],
   "source": [
    "tourney_seeds['region'] = tourney_seeds['seed'].astype(str).str[0]\n",
    "tourney_seeds['seed_in_region'] = tourney_seeds['seed'].astype(str).str[1:]\n",
    "exceptions = tourney_seeds.loc[(tourney_seeds.seed_in_region.str.contains('a', regex=False)) |\n",
    "                  (tourney_seeds.seed_in_region.str.contains('b', regex=False)), 'seed_in_region']\n",
    "exceptions = exceptions.str[:-1]\n",
    "tourney_seeds.loc[(tourney_seeds.seed_in_region.str.contains('a', regex=False)) |\n",
    "                  (tourney_seeds.seed_in_region.str.contains('b', regex=False)), 'seed_in_region'] = exceptions\n",
    "\n",
    "tourney_seeds['seed_in_region'] = pd.to_numeric(tourney_seeds['seed_in_region'])\n",
    "\n",
    "le = LabelEncoder()\n",
    "le.fit(tourney_seeds.loc[:,'region'])\n",
    "tourney_seeds.loc[:,'region'] = le.transform(tourney_seeds.loc[:,'region'])\n",
    "\n",
    "\n",
    "tourney_seeds.info()\n"
   ]
  },
  {
   "cell_type": "code",
   "execution_count": null,
   "id": "5de06636",
   "metadata": {},
   "outputs": [],
   "source": [
    "tourney_seeds.drop(['seed'], axis=1, inplace=True)\n",
    "tourney_seeds"
   ]
  },
  {
   "cell_type": "markdown",
   "id": "34bd78fb",
   "metadata": {},
   "source": [
    "# tourney_slots\n",
    "Pogledajmo sada tablicu tourney_slots. Tablica ima 1223 zapisa i 4 značajke."
   ]
  },
  {
   "cell_type": "code",
   "execution_count": null,
   "id": "09662c05",
   "metadata": {
    "scrolled": true
   },
   "outputs": [],
   "source": [
    "print('(tourney_slots rows, tourney_slots columns) -> ', tourney_slots.shape)\n",
    "tourney_slots"
   ]
  },
  {
   "cell_type": "markdown",
   "id": "bceee2e4",
   "metadata": {},
   "source": [
    "Pogledajmo postoji li nedostajajućih podataka ili stršećih vrijednosti, te koji su tipovi podataka u tablici."
   ]
  },
  {
   "cell_type": "code",
   "execution_count": null,
   "id": "ee3c0d02",
   "metadata": {},
   "outputs": [],
   "source": [
    "tourney_slots.isna().sum()"
   ]
  },
  {
   "cell_type": "code",
   "execution_count": null,
   "id": "9d93f575",
   "metadata": {
    "scrolled": true
   },
   "outputs": [],
   "source": [
    "tourney_slots.describe()"
   ]
  },
  {
   "cell_type": "code",
   "execution_count": null,
   "id": "9b3c8bd5",
   "metadata": {},
   "outputs": [],
   "source": [
    "tourney_slots.info()"
   ]
  },
  {
   "cell_type": "markdown",
   "id": "efa64a53",
   "metadata": {},
   "source": [
    "Nedostajajućih i stršećih vrijednosti očekivano nema. Većina podataka u tablici su tipa object. U ovoj tablici nisam mijenjao format značajki jer trenutno nisam siguran na koji način prikazati ove značajke numerički, a da mi posluži u kasnijem radu na projektu. "
   ]
  }
 ],
 "metadata": {
  "kernelspec": {
   "display_name": "Python 3 (ipykernel)",
   "language": "python",
   "name": "python3"
  },
  "language_info": {
   "codemirror_mode": {
    "name": "ipython",
    "version": 3
   },
   "file_extension": ".py",
   "mimetype": "text/x-python",
   "name": "python",
   "nbconvert_exporter": "python",
   "pygments_lexer": "ipython3",
   "version": "3.9.7"
  }
 },
 "nbformat": 4,
 "nbformat_minor": 5
}
